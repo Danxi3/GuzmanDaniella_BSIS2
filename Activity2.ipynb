{
  "nbformat": 4,
  "nbformat_minor": 0,
  "metadata": {
    "colab": {
      "provenance": [],
      "authorship_tag": "ABX9TyPVuzfxfxsYkg77gSL2hr+3",
      "include_colab_link": true
    },
    "kernelspec": {
      "name": "python3",
      "display_name": "Python 3"
    },
    "language_info": {
      "name": "python"
    }
  },
  "cells": [
    {
      "cell_type": "markdown",
      "metadata": {
        "id": "view-in-github",
        "colab_type": "text"
      },
      "source": [
        "<a href=\"https://colab.research.google.com/github/Danxi3/GuzmanDaniella_BSIS2/blob/main/Activity2.ipynb\" target=\"_parent\"><img src=\"https://colab.research.google.com/assets/colab-badge.svg\" alt=\"Open In Colab\"/></a>"
      ]
    },
    {
      "cell_type": "code",
      "execution_count": 1,
      "metadata": {
        "id": "wN5Fum-mHy5l"
      },
      "outputs": [],
      "source": [
        "import pandas as pd\n",
        "import numpy as np"
      ]
    },
    {
      "cell_type": "code",
      "source": [
        "df = pd.read_csv('https://raw.githubusercontent.com/Danxi3/GuzmanDaniella_BSIS2/main/SALARY_DATA%20(1).csv')"
      ],
      "metadata": {
        "id": "e_u5pfDhO63f"
      },
      "execution_count": 2,
      "outputs": []
    },
    {
      "cell_type": "code",
      "source": [
        "salary = df['Salary'].to_numpy()"
      ],
      "metadata": {
        "id": "ljU232TrPHkb"
      },
      "execution_count": 3,
      "outputs": []
    },
    {
      "cell_type": "code",
      "source": [
        "mean_salary = np.mean(salary)"
      ],
      "metadata": {
        "id": "p8LCBv4ePK5l"
      },
      "execution_count": 4,
      "outputs": []
    },
    {
      "cell_type": "code",
      "source": [
        "\n",
        "print(mean_salary)"
      ],
      "metadata": {
        "colab": {
          "base_uri": "https://localhost:8080/"
        },
        "id": "CDCozFFLPcMJ",
        "outputId": "03a65329-ef70-4dfa-f5d5-a5140fd3d7c6"
      },
      "execution_count": 5,
      "outputs": [
        {
          "output_type": "stream",
          "name": "stdout",
          "text": [
            "70200.0\n"
          ]
        }
      ]
    },
    {
      "cell_type": "code",
      "source": [
        "median_salary = np.median(salary)"
      ],
      "metadata": {
        "id": "XHUSdLVGQoXr"
      },
      "execution_count": 6,
      "outputs": []
    },
    {
      "cell_type": "code",
      "source": [
        "print(median_salary)"
      ],
      "metadata": {
        "colab": {
          "base_uri": "https://localhost:8080/"
        },
        "id": "Cs7gE8JXQx0C",
        "outputId": "f0593338-4929-4fe4-da7b-d92699269cd3"
      },
      "execution_count": 7,
      "outputs": [
        {
          "output_type": "stream",
          "name": "stdout",
          "text": [
            "70000.0\n"
          ]
        }
      ]
    },
    {
      "cell_type": "code",
      "source": [
        "std_salary = np.std(salary)"
      ],
      "metadata": {
        "id": "tJsvxdJsRWbH"
      },
      "execution_count": 8,
      "outputs": []
    },
    {
      "cell_type": "code",
      "source": [
        "print(std_salary)"
      ],
      "metadata": {
        "id": "vHcLoG_RRj9y",
        "colab": {
          "base_uri": "https://localhost:8080/"
        },
        "outputId": "54462d17-985e-473e-a134-3c303c652d44"
      },
      "execution_count": 9,
      "outputs": [
        {
          "output_type": "stream",
          "name": "stdout",
          "text": [
            "15988.32907675679\n"
          ]
        }
      ]
    },
    {
      "cell_type": "code",
      "source": [
        "total_salary = np.sum(salary)"
      ],
      "metadata": {
        "id": "uFHFQdDK-JOf"
      },
      "execution_count": 10,
      "outputs": []
    },
    {
      "cell_type": "code",
      "source": [
        "print(total_salary)"
      ],
      "metadata": {
        "colab": {
          "base_uri": "https://localhost:8080/"
        },
        "id": "6LEyCF4f-nAp",
        "outputId": "4802be73-884f-4546-ca13-905574f0b788"
      },
      "execution_count": 11,
      "outputs": [
        {
          "output_type": "stream",
          "name": "stdout",
          "text": [
            "1053000\n"
          ]
        }
      ]
    }
  ]
}