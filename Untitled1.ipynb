{
  "nbformat": 4,
  "nbformat_minor": 0,
  "metadata": {
    "colab": {
      "provenance": [],
      "authorship_tag": "ABX9TyN819/R2F8rrG93hjXaItwB",
      "include_colab_link": true
    },
    "kernelspec": {
      "name": "python3",
      "display_name": "Python 3"
    },
    "language_info": {
      "name": "python"
    }
  },
  "cells": [
    {
      "cell_type": "markdown",
      "metadata": {
        "id": "view-in-github",
        "colab_type": "text"
      },
      "source": [
        "<a href=\"https://colab.research.google.com/github/Danxi3/GuzmanDaniella_BSIS2/blob/main/Untitled1.ipynb\" target=\"_parent\"><img src=\"https://colab.research.google.com/assets/colab-badge.svg\" alt=\"Open In Colab\"/></a>"
      ]
    },
    {
      "cell_type": "code",
      "execution_count": null,
      "metadata": {
        "id": "Ze38aXoBQMSb"
      },
      "outputs": [],
      "source": [
        "import pandas as pd\n",
        "import numpy as np"
      ]
    },
    {
      "cell_type": "code",
      "source": [
        "df = pd.read_csv('https://raw.githubusercontent.com/Danxi3/GuzmanDaniella_BSIS2/main/SALARY_DATA%20(1).csv')"
      ],
      "metadata": {
        "id": "Nl6gryQWQeGV"
      },
      "execution_count": null,
      "outputs": []
    },
    {
      "cell_type": "code",
      "source": [
        "print(df)"
      ],
      "metadata": {
        "colab": {
          "base_uri": "https://localhost:8080/"
        },
        "id": "ADMLJzBvQmZJ",
        "outputId": "5cf711b9-7677-4a34-a60e-e0b436ef3338"
      },
      "execution_count": null,
      "outputs": [
        {
          "output_type": "stream",
          "name": "stdout",
          "text": [
            "    Employee ID     Name  Age Department  Salary\n",
            "0             1    Alice   45         Hr   54000\n",
            "1             2      Bob   52         It   78000\n",
            "2             3  Charlie   37    Finance   66000\n",
            "3             4    David   28  Markiting   72000\n",
            "4             5      Eva   41      Sales   85000\n",
            "5             6    Frank   53         It   90000\n",
            "6             7    Grace   32    Finance   62000\n",
            "7             8    Henry   25         Hr   40000\n",
            "8             9      Ivy   48      Sales   94000\n",
            "9            10     Jack   39  Markiting   70000\n",
            "10           11    Karen   29         It   65000\n",
            "11           12      Leo   44    Finance   86000\n",
            "12           13     Mona   33         Hr   47000\n",
            "13           14     Nina   51      Sales   88000\n",
            "14           15    Oscar   36  Markiting   56000\n"
          ]
        }
      ]
    },
    {
      "cell_type": "code",
      "source": [
        "mean_salary = df['Salary'].mean()"
      ],
      "metadata": {
        "id": "bz7CnOIXRXDO"
      },
      "execution_count": null,
      "outputs": []
    },
    {
      "cell_type": "code",
      "source": [
        "print(mean_salary)"
      ],
      "metadata": {
        "colab": {
          "base_uri": "https://localhost:8080/"
        },
        "id": "l2xXmFPjRjPI",
        "outputId": "d4d7a83d-15f0-41da-9ba6-682aa0535158"
      },
      "execution_count": null,
      "outputs": [
        {
          "output_type": "stream",
          "name": "stdout",
          "text": [
            "70200.0\n"
          ]
        }
      ]
    },
    {
      "cell_type": "code",
      "source": [
        "median_salary = df['Salary'].median()"
      ],
      "metadata": {
        "id": "XVyQiRJyRqVC"
      },
      "execution_count": null,
      "outputs": []
    },
    {
      "cell_type": "code",
      "source": [
        "print(median_salary)"
      ],
      "metadata": {
        "colab": {
          "base_uri": "https://localhost:8080/"
        },
        "id": "xJ5FgAiLR3Pk",
        "outputId": "c960c5b4-21f5-4908-db5d-897d274e62a4"
      },
      "execution_count": null,
      "outputs": [
        {
          "output_type": "stream",
          "name": "stdout",
          "text": [
            "70000.0\n"
          ]
        }
      ]
    },
    {
      "cell_type": "code",
      "source": [
        "std_salary = df['Salary'].std()"
      ],
      "metadata": {
        "id": "aLFTysLwSBVQ"
      },
      "execution_count": null,
      "outputs": []
    },
    {
      "cell_type": "code",
      "source": [
        "print(std_salary)"
      ],
      "metadata": {
        "colab": {
          "base_uri": "https://localhost:8080/"
        },
        "id": "jUpMPIrFSRh5",
        "outputId": "ad740eb4-20cd-49ce-be31-11ea7badf23f"
      },
      "execution_count": null,
      "outputs": [
        {
          "output_type": "stream",
          "name": "stdout",
          "text": [
            "16549.4928709527\n"
          ]
        }
      ]
    },
    {
      "cell_type": "code",
      "source": [
        "total_salary = df['Salary'].sum()"
      ],
      "metadata": {
        "id": "OG47sZQXSYJv"
      },
      "execution_count": null,
      "outputs": []
    },
    {
      "cell_type": "code",
      "source": [
        "print(total_salary)"
      ],
      "metadata": {
        "colab": {
          "base_uri": "https://localhost:8080/"
        },
        "id": "uWreqN5vSnO8",
        "outputId": "9f4a7482-fefc-4673-c527-a57e0bb690f4"
      },
      "execution_count": null,
      "outputs": [
        {
          "output_type": "stream",
          "name": "stdout",
          "text": [
            "1053000\n"
          ]
        }
      ]
    }
  ]
}